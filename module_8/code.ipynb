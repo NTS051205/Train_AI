{
 "cells": [
  {
   "cell_type": "markdown",
   "id": "63e6e57e",
   "metadata": {},
   "source": [
    "Quiz: Dãy con tổng lớn nhất không vượt quá k\n",
    "\n",
    "Nhập danh sách số nguyên và số nguyên k. Tìm tổng lớn nhất của dãy con liên tiếp (subarray) có tổng ≤ k"
   ]
  },
  {
   "cell_type": "code",
   "execution_count": 1,
   "id": "427678bf",
   "metadata": {},
   "outputs": [
    {
     "name": "stdout",
     "output_type": "stream",
     "text": [
      "4\n"
     ]
    }
   ],
   "source": [
    "# Nhập danh sách số nguyên và số nguyên k. Tìm tổng lớn nhất của dãy con liên tiếp (subarray) có tổng ≤ k\n",
    "# 5: [1] => [1,2], [1,2,3], [2,3]\n",
    "max_value = 0\n",
    "nums = [1,2,3,4]\n",
    "k = 5\n",
    "for i in range(len(nums)):\n",
    "  s = 0\n",
    "  for j in range(i, len(nums)):\n",
    "    s += nums[j]\n",
    "    if s < k:\n",
    "      max_value = max(max_value, s)\n",
    "print(max_value)"
   ]
  },
  {
   "cell_type": "code",
   "execution_count": 2,
   "id": "2d83fc23",
   "metadata": {},
   "outputs": [
    {
     "name": "stdout",
     "output_type": "stream",
     "text": [
      "[1, 3, 5]\n"
     ]
    }
   ],
   "source": [
    "#Nhập danh sách số nguyên, loại bỏ mọi phần tử xuất hiện >1 lần, chỉ giữ phần tử xuất hiện đúng 1 lần. Giữ nguyên thứ tự.\n",
    "nums = [1, 2, 2, 3, 4, 4, 5]\n",
    "unique_nums = []\n",
    "for num in nums:\n",
    "    if nums.count(num) == 1:\n",
    "        unique_nums.append(num)\n",
    "print(unique_nums)"
   ]
  },
  {
   "cell_type": "markdown",
   "id": "e592f66c",
   "metadata": {},
   "source": [
    "Quiz: Tìm phần tử xuất hiện nhiều thứ hai\n",
    "\n",
    "Nhập danh sách số nguyên, in giá trị xuất hiện nhiều thứ 2. Nếu không tồn tại (tất cả số chỉ xuất hiện 1 lần hoặc chỉ 1 giá trị), in \"NONE\"."
   ]
  },
  {
   "cell_type": "code",
   "execution_count": 4,
   "id": "5a8bb4ad",
   "metadata": {},
   "outputs": [
    {
     "name": "stdout",
     "output_type": "stream",
     "text": [
      "2\n"
     ]
    }
   ],
   "source": [
    "from collections import Counter\n",
    "\n",
    "# Nhập danh sách số nguyên\n",
    "nums = [1, 2, 2, 3, 3, 3, 4]\n",
    "\n",
    "# Đếm tần suất\n",
    "ds = Counter(nums)\n",
    "\n",
    "# Lấy danh sách tần suất giảm dần\n",
    "sorted_counts = ds.most_common()\n",
    "\n",
    "# Kiểm tra có đủ để tìm giá trị nhiều thứ 2 không\n",
    "if len(sorted_counts) < 2:\n",
    "    print(\"NONE\")\n",
    "else:\n",
    "    # Tìm tần suất lớn thứ 2 khác với lớn nhất\n",
    "    first_freq = sorted_counts[0][1]\n",
    "    second_value = \"NONE\"\n",
    "    for value, freq in sorted_counts:\n",
    "        if freq < first_freq:\n",
    "            second_value = value\n",
    "            break\n",
    "    print(second_value)\n"
   ]
  },
  {
   "cell_type": "code",
   "execution_count": 6,
   "id": "57638ef6",
   "metadata": {},
   "outputs": [
    {
     "name": "stdout",
     "output_type": "stream",
     "text": [
      "1\n"
     ]
    }
   ],
   "source": [
    "from collections import Counter\n",
    "\n",
    "# Nhập danh sách số nguyên\n",
    "nums = [1, 2, 2, 3, 3]\n",
    "\n",
    "# Đếm tần suất\n",
    "ds = Counter(nums)\n",
    "\n",
    "# Sắp xếp theo tần suất giảm dần\n",
    "sorted_counts = ds.most_common()\n",
    "\n",
    "# Nếu ít hơn 2 giá trị khác biệt => không có giá trị nhiều thứ 2\n",
    "if len(sorted_counts) < 2:\n",
    "    print(\"NONE\")\n",
    "else:\n",
    "    # Tần suất cao nhất\n",
    "    first_freq = sorted_counts[0][1]\n",
    "\n",
    "    # Tìm phần tử có tần suất nhỏ hơn tần suất cao nhất (tức là lớn thứ 2)\n",
    "    found = False\n",
    "    for val, freq in sorted_counts:\n",
    "        if freq < first_freq:\n",
    "            print(val)\n",
    "            found = True\n",
    "            break\n",
    "\n",
    "    if not found:\n",
    "        print(\"NONE\")\n"
   ]
  },
  {
   "cell_type": "markdown",
   "id": "7e36000c",
   "metadata": {},
   "source": [
    "Quiz: Lớp Time: chuẩn hóa giờ phút giây\n",
    "\n",
    "Viết class Time có thuộc tính h, m, s. Nhập giờ, phút, giây (3 số nguyên), chuẩn hóa (mỗi đơn vị <60), tự động dồn số dư sang bậc cao hơn. In kết quả dạng \"HH:MM:SS\"."
   ]
  },
  {
   "cell_type": "code",
   "execution_count": 12,
   "id": "216c2075",
   "metadata": {},
   "outputs": [
    {
     "name": "stdout",
     "output_type": "stream",
     "text": [
      "3:1:30\n"
     ]
    }
   ],
   "source": [
    "class Time:\n",
    "    def __init__(self, h: int, m: int, s: int):\n",
    "        total_seconds = h * 3600 + m * 60 + s\n",
    "\n",
    "        self.h = total_seconds // 3600\n",
    "        self.m = (total_seconds % 3600) // 60\n",
    "        self.s = total_seconds % 60\n",
    "\n",
    "    def __str__(self):\n",
    "        return f\"{self.h}:{self.m}:{self.s}\"\n",
    "\n",
    "h, m, s = map(int, input(\"Nhập giờ, phút, giây cách nhau bằng dấu cách: \").split())\n",
    "\n",
    "t = Time(h, m, s)\n",
    "print(t)\n"
   ]
  },
  {
   "cell_type": "code",
   "execution_count": 17,
   "id": "9aa753e0",
   "metadata": {},
   "outputs": [
    {
     "name": "stdout",
     "output_type": "stream",
     "text": [
      "1:1:1\n"
     ]
    }
   ],
   "source": [
    "class Time:\n",
    "    def __init__ (self, h,m,s):\n",
    "        self.h = h\n",
    "        self.m = m\n",
    "        self.s = s\n",
    "    def normalize(self):\n",
    "        self.m = self.m + self.s // 60\n",
    "        self.s = self.s % 60\n",
    "        self.h = self.h + self.m // 60\n",
    "        self.m = self.m % 60\n",
    "        print(f\"{self.h}:{self.m}:{self.s}\")\n",
    "\n",
    "t = Time(0, 0, 3661)\n",
    "t.normalize()"
   ]
  },
  {
   "cell_type": "code",
   "execution_count": null,
   "id": "4c5d3e23",
   "metadata": {},
   "outputs": [],
   "source": []
  },
  {
   "cell_type": "markdown",
   "id": "3ed9e0ec",
   "metadata": {},
   "source": [
    "Quiz: Dãy Fibonacci dùng generator, yield đến số ≤ n\n",
    "\n",
    "Nhập số nguyên n, sinh dãy Fibonacci ≤ n bằng generator, in list kết quả."
   ]
  },
  {
   "cell_type": "code",
   "execution_count": 24,
   "id": "2c69e090",
   "metadata": {},
   "outputs": [
    {
     "name": "stdout",
     "output_type": "stream",
     "text": [
      "0\n",
      "[0, 1, 1, 2, 3, 5, 8]\n"
     ]
    }
   ],
   "source": [
    "def fibo(n):\n",
    "    if n < 1:\n",
    "        yield -1\n",
    "        return\n",
    "    a, b = 0, 1\n",
    "    yield a\n",
    "    while b <= n:\n",
    "        yield b\n",
    "        a, b = b, a + b\n",
    "\n",
    "n = 10\n",
    "print(next(fibo(n=10)))  # In ra số Fibonacci đầu tiên không vượt quá n\n",
    "fib_list = list(fibo(n))\n",
    "print(fib_list)\n"
   ]
  },
  {
   "cell_type": "code",
   "execution_count": 22,
   "id": "40df05a5",
   "metadata": {},
   "outputs": [
    {
     "name": "stdout",
     "output_type": "stream",
     "text": [
      "55\n"
     ]
    }
   ],
   "source": [
    "def fibonacci(n):\n",
    "    if n <= 0:\n",
    "        return -1\n",
    "    elif n == 1:\n",
    "        return 1\n",
    "    elif n == 2:\n",
    "        return 1\n",
    "    else:\n",
    "        a, b = 0, 1\n",
    "        for _ in range(2, n + 1):\n",
    "            a, b = b, a + b\n",
    "        return b\n",
    "\n",
    "# Gán sẵn n\n",
    "n = 10\n",
    "result = fibonacci(n)\n",
    "print(result)\n"
   ]
  }
 ],
 "metadata": {
  "kernelspec": {
   "display_name": "Python 3",
   "language": "python",
   "name": "python3"
  },
  "language_info": {
   "codemirror_mode": {
    "name": "ipython",
    "version": 3
   },
   "file_extension": ".py",
   "mimetype": "text/x-python",
   "name": "python",
   "nbconvert_exporter": "python",
   "pygments_lexer": "ipython3",
   "version": "3.12.2"
  }
 },
 "nbformat": 4,
 "nbformat_minor": 5
}
