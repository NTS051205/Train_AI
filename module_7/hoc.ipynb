{
 "cells": [
  {
   "cell_type": "code",
   "execution_count": 3,
   "id": "ce4b4164",
   "metadata": {},
   "outputs": [
    {
     "name": "stdout",
     "output_type": "stream",
     "text": [
      "6\n"
     ]
    }
   ],
   "source": [
    "def tong_so_chan(n):\n",
    "    return sum(i for i in range(0, n+1, 2))\n",
    "print(tong_so_chan(5))  # Output: 30"
   ]
  },
  {
   "cell_type": "code",
   "execution_count": 4,
   "id": "831faa97",
   "metadata": {},
   "outputs": [
    {
     "name": "stdout",
     "output_type": "stream",
     "text": [
      "6\n"
     ]
    }
   ],
   "source": [
    "def sum_even(n):\n",
    "    nums = range(n+1)\n",
    "    sum_even = [num for num in nums if num % 2 == 0]\n",
    "    return sum(sum_even)\n",
    "print(sum_even(5))  # Output: 6"
   ]
  },
  {
   "cell_type": "code",
   "execution_count": 9,
   "id": "55927d23",
   "metadata": {},
   "outputs": [
    {
     "name": "stdout",
     "output_type": "stream",
     "text": [
      "10\n",
      "11\n"
     ]
    }
   ],
   "source": [
    "ten_ham = lambda x: x * 2\n",
    "print(ten_ham(5))  # Output: 10\n",
    "nhieu_tham_so = lambda x, y, z: x * 2 + y * 3 + z\n",
    "print(nhieu_tham_so(1, 2, 3))  # Output: 1*2 + 2*3 + 3 = 2 + 6 + 3 = 11"
   ]
  },
  {
   "cell_type": "code",
   "execution_count": null,
   "id": "2623438b",
   "metadata": {},
   "outputs": [
    {
     "name": "stdout",
     "output_type": "stream",
     "text": [
      "[12, 12, 12]\n"
     ]
    }
   ],
   "source": [
    "funcs = [lambda x: x + i for i in range(3)]\n",
    "results = [f(10) for f in funcs]\n",
    "# Kết quả là [12, 12, 12] vì tất cả các hàm lambda đều tham chiếu đến cùng một biến i,\n",
    "# và khi vòng lặp kết thúc, i = 2. Do đó, mỗi lambda thực chất là lambda x: x + 2.\n",
    "# Khi gọi f(10) cho mỗi hàm, kết quả đều là 10 + 2 = 12.\n",
    "print(results)  # Output: [12, 12, 12]"
   ]
  },
  {
   "cell_type": "code",
   "execution_count": null,
   "id": "2dc8a452",
   "metadata": {},
   "outputs": [
    {
     "name": "stdout",
     "output_type": "stream",
     "text": [
      "['a', 'bc', 'an', 'abc']\n"
     ]
    },
    {
     "data": {
      "text/plain": [
       "[2, 0, 1]"
      ]
     },
     "execution_count": 15,
     "metadata": {},
     "output_type": "execute_result"
    }
   ],
   "source": [
    "s = [\"an\", \"a\", \"bc\",\"abc\"] \n",
    "print(sorted(s,key=lambda x: (len(x),-ord(x[0]))))\n",
    "# Hàm ord(x[0]) trả về mã ASCII của ký tự đầu tiên trong chuỗi x.\n",
    "# Trong sorted, key=lambda x: (len(x), -ord(x[0])) sẽ sắp xếp theo độ dài chuỗi tăng dần,\n",
    "# nếu độ dài bằng nhau thì sắp xếp theo mã ASCII của ký tự đầu tiên giảm dần (do có dấu -).\n",
    "# Ví dụ: \"an\" và \"bc\" đều có độ dài 2, nhưng 'a' (ord=97) < 'b' (ord=98), \n",
    "# nên khi dùng -ord(x[0]), \"bc\" sẽ đứng trước \"an\".\n",
    "dicts = {0: \"an\", 2: \"a\", 1:\"bc\"}\n",
    "sorted(dicts, key = lambda x: (len(dicts[x]), dicts[x]))\n"
   ]
  },
  {
   "cell_type": "code",
   "execution_count": null,
   "id": "9063a88e",
   "metadata": {},
   "outputs": [
    {
     "name": "stdout",
     "output_type": "stream",
     "text": [
      "[2, 4, 6, 8, 10]\n",
      "<map object at 0x00000204A4067670>\n",
      "[2, 4, 6, 8, 10]\n",
      "[1, 0, 1, 0, 1]\n"
     ]
    }
   ],
   "source": [
    "#nums [1, 2, 3, 4, 5] => [2, 4, 6, 8, 10]\n",
    "nums= [1, 2, 3, 4, 5]\n",
    "print([nums*2 for nums in nums])\n",
    "map(lambda x: x*2,nums)\n",
    "print(map(lambda x: x*2, nums))\n",
    "print(list(map(lambda x: x*2, nums)))  \n",
    "print(list(map(lambda x: 0 if x % 2 == 0 else 1, nums)))"
   ]
  },
  {
   "cell_type": "code",
   "execution_count": null,
   "id": "7a834761",
   "metadata": {},
   "outputs": [
    {
     "name": "stdout",
     "output_type": "stream",
     "text": [
      "13\n"
     ]
    }
   ],
   "source": [
    "nums_A =[1,2,3]\n",
    "nums_B = [2,4,1]\n",
    "# => [2,8,3]=>13\n",
    "print(sum(list(map(lambda a, b: a * b, nums_A, nums_B))))\n",
    "lambda x: 1 - (x % 2)\n",
    "\n"
   ]
  },
  {
   "cell_type": "markdown",
   "id": "5899dfb3",
   "metadata": {},
   "source": []
  },
  {
   "cell_type": "code",
   "execution_count": null,
   "id": "f43e8401",
   "metadata": {},
   "outputs": [
    {
     "name": "stdout",
     "output_type": "stream",
     "text": [
      "[2, 4]\n",
      "6\n"
     ]
    }
   ],
   "source": [
    "nums = [1, 2, 3, 4, 5]\n",
    "filter(lambda x: x%2, nums)\n",
    "print(list(filter(lambda x: x % 2 == 0, nums)))  \n",
    "print(sum(filter(lambda x: x % 2 == 0, nums)))"
   ]
  },
  {
   "cell_type": "code",
   "execution_count": null,
   "id": "c06ac375",
   "metadata": {},
   "outputs": [
    {
     "name": "stdout",
     "output_type": "stream",
     "text": [
      "['ab', 'abc']\n",
      "['ab', 'abc']\n",
      "['ab', 'abc']\n"
     ]
    }
   ],
   "source": [
    "#lọc các phần tử trong danh sách bắt đầu bằng chữ cái 'a'\n",
    "s = [\"ab\",\"bc\",\"abc\"]\n",
    "print(list(filter(lambda x: x[0] == 'a', s)))\n"
   ]
  },
  {
   "cell_type": "code",
   "execution_count": 27,
   "id": "7ae06e72",
   "metadata": {},
   "outputs": [
    {
     "name": "stdout",
     "output_type": "stream",
     "text": [
      "[23]\n"
     ]
    }
   ],
   "source": [
    "nums = [10, 8, 23]\n",
    "print(list(filter(\n",
    "    lambda x: all(x % i != 0 for i in range(2, int(x**0.5)+1)) and\n",
    "              all(sum(map(int, str(x))) % i != 0 for i in range(2, int(sum(map(int, str(x)))**0.5)+1)) and\n",
    "              x > 1 and sum(map(int, str(x))) > 1,\n",
    "    nums)))\n"
   ]
  },
  {
   "cell_type": "code",
   "execution_count": null,
   "id": "98b738fd",
   "metadata": {},
   "outputs": [
    {
     "name": "stdout",
     "output_type": "stream",
     "text": [
      "[23]\n"
     ]
    }
   ],
   "source": [
    "def is_prime(n):\n",
    "    if n < 2:\n",
    "        return False\n",
    "    for i in range(2, int(n**0.5) + 1):\n",
    "        if n % i == 0:\n",
    "            return False\n",
    "    return True\n",
    "\n",
    "def sum_digits(n):\n",
    "    return sum(int(d) for d in str(n))\n",
    "\n",
    "nums = [10, 8, 23]\n",
    "result = list(filter(lambda x: is_prime(x) and is_prime(sum_digits(x)), nums))\n",
    "print(result)\n"
   ]
  },
  {
   "cell_type": "code",
   "execution_count": null,
   "id": "73fc63c9",
   "metadata": {},
   "outputs": [
    {
     "name": "stdout",
     "output_type": "stream",
     "text": [
      "(15, 8)\n"
     ]
    }
   ],
   "source": [
    "from functools import reduce\n",
    "nums = [1, 2, 3, 4, 5]\n",
    "even = reduce(lambda x, y: x * y, [nums[i] for i in range(len(nums)) if i % 2 == 0], 1)\n",
    "odd  = reduce(lambda x, y: x * y, [nums[i] for i in range(len(nums)) if i % 2 == 1], 1)\n",
    "print((even, odd)) \n"
   ]
  },
  {
   "cell_type": "code",
   "execution_count": 7,
   "id": "dde70ac1",
   "metadata": {},
   "outputs": [
    {
     "name": "stdout",
     "output_type": "stream",
     "text": [
      "1\n",
      "2\n",
      "3\n"
     ]
    }
   ],
   "source": [
    "nums = [1, 2, 3]\n",
    "it = iter(nums)\n",
    "\n",
    "print(next(it))  # 1\n",
    "print(next(it))  # 2\n",
    "print(next(it))  # 3\n",
    "# print(next(it))  # ❌ lỗi StopIteration vì hết phần tử\n"
   ]
  },
  {
   "cell_type": "code",
   "execution_count": 10,
   "id": "9431c81a",
   "metadata": {},
   "outputs": [
    {
     "name": "stdout",
     "output_type": "stream",
     "text": [
      "[0, 1, 2, 3, 4]\n",
      "0\n",
      "[0, 1, 2, 3, 4]\n"
     ]
    }
   ],
   "source": [
    "def print_n(n):\n",
    "    return [i for i in range(n)]\n",
    "print(print_n(5))  # Output: [0, 1, 2, 3, 4]\n",
    "\n",
    "def print_n(n):\n",
    "    for i in range(n):\n",
    "        yield i\n",
    "s=print_n(10)\n",
    "print(next(s))  # Output: 0\n",
    "print(list(print_n(5)))  # Output: [0, 1, 2"
   ]
  },
  {
   "cell_type": "code",
   "execution_count": 17,
   "id": "5f8fcac6",
   "metadata": {},
   "outputs": [
    {
     "name": "stdout",
     "output_type": "stream",
     "text": [
      "[0, 2, 4, 6, 8]\n"
     ]
    }
   ],
   "source": [
    "def even_numbers(s):\n",
    "    yield from (x for x in s if x % 2 == 0)\n",
    "\n",
    "gen = even_numbers(range(10))\n",
    "print(list(gen))  # [0, 2, 4, 6, 8]\n"
   ]
  },
  {
   "cell_type": "code",
   "execution_count": null,
   "id": "3d1bc628",
   "metadata": {},
   "outputs": [
    {
     "name": "stdout",
     "output_type": "stream",
     "text": [
      "Danh sách số nguyên: [12, 5, 9, 18, 33, 40, 7, 8]\n",
      "Số chia hết cho 3: [12, 9, 18, 33]\n",
      "Sau khi nhân đôi: [24, 18, 36, 66]\n",
      "Tổng sau khi nhân đôi: 144\n",
      "Duyệt từng số bằng next():\n",
      "12\n",
      "5\n",
      "9\n",
      "18\n",
      "33\n",
      "40\n",
      "7\n",
      "8\n"
     ]
    }
   ],
   "source": [
    "from functools import reduce\n",
    "\n",
    "data = \"12,5,9,18,33,40,7,8\"\n",
    "nums = list(map(int, data.split(',')))\n",
    "print(\"Danh sách số nguyên:\", nums)\n",
    "\n",
    "div_3 = list(filter(lambda x: x % 3 == 0, nums))\n",
    "print(\"Số chia hết cho 3:\", div_by_3)\n",
    "\n",
    "doubled = list(map(lambda x: x * 2, div_by_3))\n",
    "print(\"Sau khi nhân đôi:\", doubled)\n",
    "\n",
    "total = reduce(lambda x, y: x + y, doubled)\n",
    "print(\"Tổng sau khi nhân đôi:\", total)\n",
    "\n",
    "def num_generator(numbers):\n",
    "    for num in numbers:\n",
    "        yield num\n",
    "\n",
    "gen = num_generator(nums)\n",
    "print(next(gen))  # 12\n",
    "print(next(gen))  # 5\n",
    "print(next(gen))  # 9\n",
    "print(next(gen))  # 18\n",
    "print(next(gen))  # 33\n",
    "print(next(gen))  # 40\n",
    "print(next(gen))  # 7\n",
    "print(next(gen))  # 8\n"
   ]
  },
  {
   "cell_type": "code",
   "execution_count": 23,
   "id": "49ee714b",
   "metadata": {},
   "outputs": [
    {
     "name": "stdout",
     "output_type": "stream",
     "text": [
      "[12, 5, 9, 18, 33, 40, 7, 8]\n",
      "[12, 9, 18, 33]\n",
      "[24, 18, 36, 66]\n",
      "144\n",
      "12\n",
      "5\n",
      "9\n"
     ]
    }
   ],
   "source": [
    "from functools import reduce\n",
    "data = \"12,5,9,18,33,40,7,8\"\n",
    "\n",
    "nums = list(map(int, data.split(',')))\n",
    "print(nums)\n",
    "\n",
    "div = list(filter(lambda x: x%3 ==0,nums))\n",
    "print(div)\n",
    "\n",
    "double = list(map(lambda x:x*2,div))\n",
    "print(double)\n",
    "\n",
    "total = reduce(lambda x,y : x+y, double)\n",
    "print(total)  # Output: 144\n",
    "\n",
    "def num(numbers):\n",
    "    for num in numbers:\n",
    "        yield num\n",
    "gen = num(nums)\n",
    "print(next(gen))  # 12\n",
    "print(next(gen))  # 5\n",
    "print(next(gen))  # 9"
   ]
  }
 ],
 "metadata": {
  "kernelspec": {
   "display_name": "Python 3",
   "language": "python",
   "name": "python3"
  },
  "language_info": {
   "codemirror_mode": {
    "name": "ipython",
    "version": 3
   },
   "file_extension": ".py",
   "mimetype": "text/x-python",
   "name": "python",
   "nbconvert_exporter": "python",
   "pygments_lexer": "ipython3",
   "version": "3.12.2"
  }
 },
 "nbformat": 4,
 "nbformat_minor": 5
}
