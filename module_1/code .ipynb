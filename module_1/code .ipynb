{
 "cells": [
  {
   "cell_type": "code",
   "execution_count": 7,
   "id": "0d706f7d",
   "metadata": {},
   "outputs": [],
   "source": [
    "import math\n",
    "from math import *"
   ]
  },
  {
   "cell_type": "code",
   "execution_count": 5,
   "id": "23ad0102",
   "metadata": {},
   "outputs": [
    {
     "name": "stdout",
     "output_type": "stream",
     "text": [
      "Help on built-in module math:\n",
      "\n",
      "NAME\n",
      "    math\n",
      "\n",
      "DESCRIPTION\n",
      "    This module provides access to the mathematical functions\n",
      "    defined by the C standard.\n",
      "\n",
      "FUNCTIONS\n",
      "    acos(x, /)\n",
      "        Return the arc cosine (measured in radians) of x.\n",
      "\n",
      "        The result is between 0 and pi.\n",
      "\n",
      "    acosh(x, /)\n",
      "        Return the inverse hyperbolic cosine of x.\n",
      "\n",
      "    asin(x, /)\n",
      "        Return the arc sine (measured in radians) of x.\n",
      "\n",
      "        The result is between -pi/2 and pi/2.\n",
      "\n",
      "    asinh(x, /)\n",
      "        Return the inverse hyperbolic sine of x.\n",
      "\n",
      "    atan(x, /)\n",
      "        Return the arc tangent (measured in radians) of x.\n",
      "\n",
      "        The result is between -pi/2 and pi/2.\n",
      "\n",
      "    atan2(y, x, /)\n",
      "        Return the arc tangent (measured in radians) of y/x.\n",
      "\n",
      "        Unlike atan(y/x), the signs of both x and y are considered.\n",
      "\n",
      "    atanh(x, /)\n",
      "        Return the inverse hyperbolic tangent of x.\n",
      "\n",
      "    cbrt(x, /)\n",
      "        Return the cube root of x.\n",
      "\n",
      "    ceil(x, /)\n",
      "        Return the ceiling of x as an Integral.\n",
      "\n",
      "        This is the smallest integer >= x.\n",
      "\n",
      "    comb(n, k, /)\n",
      "        Number of ways to choose k items from n items without repetition and without order.\n",
      "\n",
      "        Evaluates to n! / (k! * (n - k)!) when k <= n and evaluates\n",
      "        to zero when k > n.\n",
      "\n",
      "        Also called the binomial coefficient because it is equivalent\n",
      "        to the coefficient of k-th term in polynomial expansion of the\n",
      "        expression (1 + x)**n.\n",
      "\n",
      "        Raises TypeError if either of the arguments are not integers.\n",
      "        Raises ValueError if either of the arguments are negative.\n",
      "\n",
      "    copysign(x, y, /)\n",
      "        Return a float with the magnitude (absolute value) of x but the sign of y.\n",
      "\n",
      "        On platforms that support signed zeros, copysign(1.0, -0.0)\n",
      "        returns -1.0.\n",
      "\n",
      "    cos(x, /)\n",
      "        Return the cosine of x (measured in radians).\n",
      "\n",
      "    cosh(x, /)\n",
      "        Return the hyperbolic cosine of x.\n",
      "\n",
      "    degrees(x, /)\n",
      "        Convert angle x from radians to degrees.\n",
      "\n",
      "    dist(p, q, /)\n",
      "        Return the Euclidean distance between two points p and q.\n",
      "\n",
      "        The points should be specified as sequences (or iterables) of\n",
      "        coordinates.  Both inputs must have the same dimension.\n",
      "\n",
      "        Roughly equivalent to:\n",
      "            sqrt(sum((px - qx) ** 2.0 for px, qx in zip(p, q)))\n",
      "\n",
      "    erf(x, /)\n",
      "        Error function at x.\n",
      "\n",
      "    erfc(x, /)\n",
      "        Complementary error function at x.\n",
      "\n",
      "    exp(x, /)\n",
      "        Return e raised to the power of x.\n",
      "\n",
      "    exp2(x, /)\n",
      "        Return 2 raised to the power of x.\n",
      "\n",
      "    expm1(x, /)\n",
      "        Return exp(x)-1.\n",
      "\n",
      "        This function avoids the loss of precision involved in the direct evaluation of exp(x)-1 for small x.\n",
      "\n",
      "    fabs(x, /)\n",
      "        Return the absolute value of the float x.\n",
      "\n",
      "    factorial(n, /)\n",
      "        Find n!.\n",
      "\n",
      "        Raise a ValueError if x is negative or non-integral.\n",
      "\n",
      "    floor(x, /)\n",
      "        Return the floor of x as an Integral.\n",
      "\n",
      "        This is the largest integer <= x.\n",
      "\n",
      "    fmod(x, y, /)\n",
      "        Return fmod(x, y), according to platform C.\n",
      "\n",
      "        x % y may differ.\n",
      "\n",
      "    frexp(x, /)\n",
      "        Return the mantissa and exponent of x, as pair (m, e).\n",
      "\n",
      "        m is a float and e is an int, such that x = m * 2.**e.\n",
      "        If x is 0, m and e are both 0.  Else 0.5 <= abs(m) < 1.0.\n",
      "\n",
      "    fsum(seq, /)\n",
      "        Return an accurate floating point sum of values in the iterable seq.\n",
      "\n",
      "        Assumes IEEE-754 floating point arithmetic.\n",
      "\n",
      "    gamma(x, /)\n",
      "        Gamma function at x.\n",
      "\n",
      "    gcd(*integers)\n",
      "        Greatest Common Divisor.\n",
      "\n",
      "    hypot(...)\n",
      "        hypot(*coordinates) -> value\n",
      "\n",
      "        Multidimensional Euclidean distance from the origin to a point.\n",
      "\n",
      "        Roughly equivalent to:\n",
      "            sqrt(sum(x**2 for x in coordinates))\n",
      "\n",
      "        For a two dimensional point (x, y), gives the hypotenuse\n",
      "        using the Pythagorean theorem:  sqrt(x*x + y*y).\n",
      "\n",
      "        For example, the hypotenuse of a 3/4/5 right triangle is:\n",
      "\n",
      "            >>> hypot(3.0, 4.0)\n",
      "            5.0\n",
      "\n",
      "    isclose(a, b, *, rel_tol=1e-09, abs_tol=0.0)\n",
      "        Determine whether two floating point numbers are close in value.\n",
      "\n",
      "          rel_tol\n",
      "            maximum difference for being considered \"close\", relative to the\n",
      "            magnitude of the input values\n",
      "          abs_tol\n",
      "            maximum difference for being considered \"close\", regardless of the\n",
      "            magnitude of the input values\n",
      "\n",
      "        Return True if a is close in value to b, and False otherwise.\n",
      "\n",
      "        For the values to be considered close, the difference between them\n",
      "        must be smaller than at least one of the tolerances.\n",
      "\n",
      "        -inf, inf and NaN behave similarly to the IEEE 754 Standard.  That\n",
      "        is, NaN is not close to anything, even itself.  inf and -inf are\n",
      "        only close to themselves.\n",
      "\n",
      "    isfinite(x, /)\n",
      "        Return True if x is neither an infinity nor a NaN, and False otherwise.\n",
      "\n",
      "    isinf(x, /)\n",
      "        Return True if x is a positive or negative infinity, and False otherwise.\n",
      "\n",
      "    isnan(x, /)\n",
      "        Return True if x is a NaN (not a number), and False otherwise.\n",
      "\n",
      "    isqrt(n, /)\n",
      "        Return the integer part of the square root of the input.\n",
      "\n",
      "    lcm(*integers)\n",
      "        Least Common Multiple.\n",
      "\n",
      "    ldexp(x, i, /)\n",
      "        Return x * (2**i).\n",
      "\n",
      "        This is essentially the inverse of frexp().\n",
      "\n",
      "    lgamma(x, /)\n",
      "        Natural logarithm of absolute value of Gamma function at x.\n",
      "\n",
      "    log(...)\n",
      "        log(x, [base=math.e])\n",
      "        Return the logarithm of x to the given base.\n",
      "\n",
      "        If the base is not specified, returns the natural logarithm (base e) of x.\n",
      "\n",
      "    log10(x, /)\n",
      "        Return the base 10 logarithm of x.\n",
      "\n",
      "    log1p(x, /)\n",
      "        Return the natural logarithm of 1+x (base e).\n",
      "\n",
      "        The result is computed in a way which is accurate for x near zero.\n",
      "\n",
      "    log2(x, /)\n",
      "        Return the base 2 logarithm of x.\n",
      "\n",
      "    modf(x, /)\n",
      "        Return the fractional and integer parts of x.\n",
      "\n",
      "        Both results carry the sign of x and are floats.\n",
      "\n",
      "    nextafter(x, y, /, *, steps=None)\n",
      "        Return the floating-point value the given number of steps after x towards y.\n",
      "\n",
      "        If steps is not specified or is None, it defaults to 1.\n",
      "\n",
      "        Raises a TypeError, if x or y is not a double, or if steps is not an integer.\n",
      "        Raises ValueError if steps is negative.\n",
      "\n",
      "    perm(n, k=None, /)\n",
      "        Number of ways to choose k items from n items without repetition and with order.\n",
      "\n",
      "        Evaluates to n! / (n - k)! when k <= n and evaluates\n",
      "        to zero when k > n.\n",
      "\n",
      "        If k is not specified or is None, then k defaults to n\n",
      "        and the function returns n!.\n",
      "\n",
      "        Raises TypeError if either of the arguments are not integers.\n",
      "        Raises ValueError if either of the arguments are negative.\n",
      "\n",
      "    pow(x, y, /)\n",
      "        Return x**y (x to the power of y).\n",
      "\n",
      "    prod(iterable, /, *, start=1)\n",
      "        Calculate the product of all the elements in the input iterable.\n",
      "\n",
      "        The default start value for the product is 1.\n",
      "\n",
      "        When the iterable is empty, return the start value.  This function is\n",
      "        intended specifically for use with numeric values and may reject\n",
      "        non-numeric types.\n",
      "\n",
      "    radians(x, /)\n",
      "        Convert angle x from degrees to radians.\n",
      "\n",
      "    remainder(x, y, /)\n",
      "        Difference between x and the closest integer multiple of y.\n",
      "\n",
      "        Return x - n*y where n*y is the closest integer multiple of y.\n",
      "        In the case where x is exactly halfway between two multiples of\n",
      "        y, the nearest even value of n is used. The result is always exact.\n",
      "\n",
      "    sin(x, /)\n",
      "        Return the sine of x (measured in radians).\n",
      "\n",
      "    sinh(x, /)\n",
      "        Return the hyperbolic sine of x.\n",
      "\n",
      "    sqrt(x, /)\n",
      "        Return the square root of x.\n",
      "\n",
      "    sumprod(p, q, /)\n",
      "        Return the sum of products of values from two iterables p and q.\n",
      "\n",
      "        Roughly equivalent to:\n",
      "\n",
      "            sum(itertools.starmap(operator.mul, zip(p, q, strict=True)))\n",
      "\n",
      "        For float and mixed int/float inputs, the intermediate products\n",
      "        and sums are computed with extended precision.\n",
      "\n",
      "    tan(x, /)\n",
      "        Return the tangent of x (measured in radians).\n",
      "\n",
      "    tanh(x, /)\n",
      "        Return the hyperbolic tangent of x.\n",
      "\n",
      "    trunc(x, /)\n",
      "        Truncates the Real x to the nearest Integral toward 0.\n",
      "\n",
      "        Uses the __trunc__ magic method.\n",
      "\n",
      "    ulp(x, /)\n",
      "        Return the value of the least significant bit of the float x.\n",
      "\n",
      "DATA\n",
      "    e = 2.718281828459045\n",
      "    inf = inf\n",
      "    nan = nan\n",
      "    pi = 3.141592653589793\n",
      "    tau = 6.283185307179586\n",
      "\n",
      "FILE\n",
      "    (built-in)\n",
      "\n",
      "\n",
      "None\n"
     ]
    }
   ],
   "source": [
    "print(help(math))"
   ]
  },
  {
   "cell_type": "markdown",
   "id": "62fa205c",
   "metadata": {},
   "source": [
    "Hàm căn bậc hai\n"
   ]
  },
  {
   "cell_type": "code",
   "execution_count": 8,
   "id": "89da34e4",
   "metadata": {},
   "outputs": [
    {
     "name": "stdout",
     "output_type": "stream",
     "text": [
      "4.0\n"
     ]
    }
   ],
   "source": [
    "print(sqrt(16))"
   ]
  },
  {
   "cell_type": "markdown",
   "id": "64c24a86",
   "metadata": {},
   "source": [
    "hàm isqrt(tính căn bậc 2 nhưng lấy phần nguyên\n",
    ")"
   ]
  },
  {
   "cell_type": "code",
   "execution_count": 9,
   "id": "37e635e9",
   "metadata": {},
   "outputs": [
    {
     "name": "stdout",
     "output_type": "stream",
     "text": [
      "6\n"
     ]
    }
   ],
   "source": [
    "print(isqrt(39))"
   ]
  },
  {
   "cell_type": "markdown",
   "id": "55fd1bae",
   "metadata": {},
   "source": [
    "hàm pow:power(lũy thừa)"
   ]
  },
  {
   "cell_type": "code",
   "execution_count": 11,
   "id": "59573407",
   "metadata": {},
   "outputs": [
    {
     "name": "stdout",
     "output_type": "stream",
     "text": [
      "8.0\n",
      "2.154434690031884\n"
     ]
    }
   ],
   "source": [
    "print(pow(2,3))\n",
    "print(pow(10,1/3))"
   ]
  },
  {
   "cell_type": "markdown",
   "id": "4abe855c",
   "metadata": {},
   "source": [
    "math module\n",
    "hàm liên quan đến làm tròn \n",
    "ceil:ceiling(làm tròn lên)\n",
    "floor:làm tròn xuống\n",
    "factorial :giai thừa\n",
    "gcd(a,b):greatest common divisor\n",
    "(ước chung lớn nhất)\n",
    "hàm tính tổ hợp chập k của n\n",
    "comb(n,k)\n",
    "perm\n",
    "built-in-function\n",
    "tính trị tuyệt đối(fabs)\n",
    "round  ( làm tròn phụ thuộc vào hàm thập phân)"
   ]
  },
  {
   "cell_type": "code",
   "execution_count": 21,
   "id": "30da3bed",
   "metadata": {},
   "outputs": [
    {
     "name": "stdout",
     "output_type": "stream",
     "text": [
      "8\n",
      "7\n",
      "120\n",
      "50\n",
      "45\n",
      "60\n",
      "42.0\n",
      "3939328939\n"
     ]
    }
   ],
   "source": [
    "print(ceil(7.8))\n",
    "print(floor(7.8))\n",
    "print(factorial(5))\n",
    "print(gcd(100,450))\n",
    "print(comb(10,2))\n",
    "print(perm(5,3))\n",
    "print(fabs(-42))\n",
    "print(round(3939328938.898383292))"
   ]
  },
  {
   "cell_type": "markdown",
   "id": "8b3b8b11",
   "metadata": {},
   "source": [
    "Cấu trúc rẽ ngánh\n"
   ]
  },
  {
   "cell_type": "code",
   "execution_count": 23,
   "id": "5ac89720",
   "metadata": {},
   "outputs": [
    {
     "name": "stdout",
     "output_type": "stream",
     "text": [
      "100 less than 200\n",
      "200 greater than 100\n"
     ]
    }
   ],
   "source": [
    " #shorthan if : Bạn có thể sử dụng câu lệnh if trên 1 dòng\n",
    "a,b=100,200\n",
    "if a<b:print(a,'less than',b);print(b,'greater than',a)\n"
   ]
  },
  {
   "cell_type": "markdown",
   "id": "da2e2401",
   "metadata": {},
   "source": [
    "toán tử 3 ngôi\n",
    "var=statement(true) if condition else statement"
   ]
  },
  {
   "cell_type": "code",
   "execution_count": 25,
   "id": "ba11ad73",
   "metadata": {},
   "outputs": [
    {
     "name": "stdout",
     "output_type": "stream",
     "text": [
      "Sơn\n"
     ]
    }
   ],
   "source": [
    "a,b=100,200\n",
    "res='Sơn' if a<b else 'Ok'\n",
    "print(res)"
   ]
  },
  {
   "cell_type": "markdown",
   "id": "33c2f824",
   "metadata": {},
   "source": [
    "nested if\n",
    "nếu sử dụng and thì chỉ có and k có lẫn\n",
    "(không ngang hàng ( thêm dấu ngoặc))"
   ]
  },
  {
   "cell_type": "code",
   "execution_count": 27,
   "id": "1101c458",
   "metadata": {},
   "outputs": [
    {
     "name": "stdout",
     "output_type": "stream",
     "text": [
      "No\n"
     ]
    }
   ],
   "source": [
    "#kiem tra n co phai la so lon hon hoac bang 50 va chia het cho 1 trong 3 so 3 5 7\n",
    "n=89\n",
    "if n>=50 and (n%3==0 or n%5==0 or n%7==0):\n",
    "    print(n,'is greater than or equal to 50 and divisible by 3, 5, or 7')\n",
    "else: \n",
    "    print('No')"
   ]
  },
  {
   "cell_type": "markdown",
   "id": "574d474b",
   "metadata": {},
   "source": [
    "vòng lặp\n",
    "for var in iterable: "
   ]
  },
  {
   "cell_type": "code",
   "execution_count": 37,
   "id": "873beea6",
   "metadata": {},
   "outputs": [
    {
     "name": "stdout",
     "output_type": "stream",
     "text": [
      "0 28tech\n",
      "1 28tech\n",
      "2 28tech\n",
      "3 28tech\n",
      "4 28tech\n",
      "10\n",
      "11\n",
      "12\n",
      "13\n",
      "14\n",
      "15\n",
      "16\n",
      "17\n",
      "18\n",
      "19\n",
      "20\n"
     ]
    }
   ],
   "source": [
    "#hàm range()  cú pháp: range(start, stop, step)\n",
    "# a= range(1,10,1)\n",
    "# #(1 đến 9)\n",
    "# for i in a:\n",
    "#     print(i,end=' ')\n",
    "# #MUỐN DUYỆT CÁC SỐ TỪ 1-50\n",
    "# for i in range(0,51,2):\n",
    "#     print(i,end=' ')\n",
    "for i in range(5):\n",
    "    print(i, '28tech')\n",
    "a,b =10 ,20\n",
    "for i in range(a,b+1):\n",
    "    print(i)\n"
   ]
  },
  {
   "cell_type": "code",
   "execution_count": null,
   "id": "3dd8cb20",
   "metadata": {},
   "outputs": [
    {
     "name": "stdout",
     "output_type": "stream",
     "text": [
      "385\n"
     ]
    }
   ],
   "source": [
    "#muốn tính tổng S(n) = 1 + 2 + ... + n\n",
    "# tính tổng khởi tạo =0\n",
    "#tích khởi tạo =1\n",
    "# n=10\n",
    "# S=0\n",
    "# for i in range(1,n+1):\n",
    "#     S+=i\n",
    "# print(S)\n",
    "#S(n)=1^2+2^2+...+n^2\n",
    "n=10\n",
    "s=0\n",
    "for i in range(1,n+1):\n",
    "    s+=i**2\n",
    "print(s)"
   ]
  },
  {
   "cell_type": "markdown",
   "id": "b200705f",
   "metadata": {},
   "source": [
    "Function\n"
   ]
  },
  {
   "cell_type": "code",
   "execution_count": null,
   "id": "b76bd623",
   "metadata": {},
   "outputs": [],
   "source": [
    "#def function_name(parameters):code\n",
    "#code để chạy chương trình if_name__ == '__main__':"
   ]
  },
  {
   "cell_type": "code",
   "execution_count": 1,
   "id": "2acc799c",
   "metadata": {},
   "outputs": [
    {
     "name": "stdout",
     "output_type": "stream",
     "text": [
      "12 không phải là số nguyên tố\n"
     ]
    }
   ],
   "source": [
    "# Kiểm tra số nguyên tố dựa vào số căn\n",
    "def snt(n):\n",
    "    if n <= 1:\n",
    "        return False\n",
    "    for i in range(2, int(n**0.5) + 1):\n",
    "    # Tại sao lại dùng √n? Vì nếu n có ước khác 1 và chính nó, thì ít nhất một trong các ước đó sẽ nhỏ hơn hoặc bằng căn bậc hai của n.\n",
    "        if n % i == 0:\n",
    "            return False\n",
    "    return True\n",
    "\n",
    "n = 12\n",
    "if snt(n):\n",
    "    print(f\"{n} là số nguyên tố\")\n",
    "else:\n",
    "    print(f\"{n} không phải là số nguyên tố\")\n"
   ]
  },
  {
   "cell_type": "code",
   "execution_count": 9,
   "id": "5639e796",
   "metadata": {},
   "outputs": [
    {
     "name": "stdout",
     "output_type": "stream",
     "text": [
      "Chỉ số BMI: 25.57\n",
      "Phân loại sức khỏe: Thừa cân\n",
      "25.57\n"
     ]
    }
   ],
   "source": [
    "def bmi(w,h):\n",
    "    bmi = w / (h ** 2)\n",
    "    if bmi < 18.5:\n",
    "        return bmi, \"Gầy\"\n",
    "    elif bmi <25:\n",
    "        return bmi, \"Bình thường\"\n",
    "    else:\n",
    "        return bmi, \"Thừa cân\"\n",
    "w,h= 87.5, 1.85\n",
    "bmi_value, classification = bmi(w, h)\n",
    "print(f\"Chỉ số BMI: {bmi_value:.2f}\")\n",
    "print(f\"Phân loại sức khỏe: {classification}\")\n",
    "print(round(bmi_value, 2))"
   ]
  },
  {
   "cell_type": "code",
   "execution_count": 10,
   "id": "141c2bd3",
   "metadata": {},
   "outputs": [
    {
     "name": "stdout",
     "output_type": "stream",
     "text": [
      "3.141592653589793\n",
      "2.718281828459045\n",
      "3.141592653589793\n",
      "4.0\n"
     ]
    }
   ],
   "source": [
    "import math\n",
    "print(math.pi)  # In ra giá trị của số pi\n",
    "print(math.e)   # In ra giá trị của số e\n",
    "\n",
    "from math import sqrt, pi, e\n",
    "print(pi)\n",
    "\n",
    "import math as m\n",
    "print(m.sqrt(16))  # Sử dụng hàm sqrt từ math với bí danh m"
   ]
  },
  {
   "cell_type": "code",
   "execution_count": 17,
   "id": "7435daa3",
   "metadata": {},
   "outputs": [
    {
     "name": "stdout",
     "output_type": "stream",
     "text": [
      "Mật khẩu ngẫu nhiên: VV0@C,,>SQ7_\n",
      "Độ mạnh của mật khẩu: Mật khẩu phải có ít nhất một chữ thường\n"
     ]
    }
   ],
   "source": [
    "import sys\n",
    "sys.version\n",
    "\n",
    "import datetime\n",
    "datetime.datetime.now()  # In ra thời gian hiện tại\n",
    "\n",
    "import os\n",
    "os.listdir('.')  # Liệt kê các tệp trong thư mục hiện tại\n",
    "\n",
    "#sinh mật khẩu: 8 ký tự ngẫu nhiên gồm chữ hoa, chữ thường, số và ký tự đặc biệt\n",
    "import random\n",
    "import string\n",
    "def generate_password(length=8):\n",
    "    characters = string.ascii_letters + string.digits + string.punctuation\n",
    "    password = ''.join(random.choice(characters) for _ in range(length))\n",
    "    return password\n",
    "# Sinh mật khẩu ngẫu nhiên\n",
    "password = generate_password(12)\n",
    "print(\"Mật khẩu ngẫu nhiên:\", password\n",
    ")\n",
    "# Kiểm tra tính chất của mật khẩu\n",
    "def check_password_strength(password):\n",
    "    if len(password) < 8:\n",
    "        return \"Mật khẩu quá ngắn\"\n",
    "    if not any(c.islower() for c in password):\n",
    "        return \"Mật khẩu phải có ít nhất một chữ thường\"\n",
    "    if not any(c.isupper() for c in password):\n",
    "        return \"Mật khẩu phải có ít nhất một chữ hoa\"\n",
    "    if not any(c.isdigit() for c in password):\n",
    "        return \"Mật khẩu phải có ít nhất một chữ số\"\n",
    "    if not any(c in string.punctuation for c in password):\n",
    "        return \"Mật khẩu phải có ít nhất một ký tự đặc biệt\"\n",
    "    return \"Mật khẩu mạnh\"\n",
    "# Kiểm tra mật khẩu\n",
    "password_strength = check_password_strength(password)\n",
    "print(\"Độ mạnh của mật khẩu:\", password_strength)\n",
    "# Tính toán số pi bằng công thức Leibniz        "
   ]
  },
  {
   "cell_type": "code",
   "execution_count": 21,
   "id": "eed8330a",
   "metadata": {},
   "outputs": [
    {
     "name": "stdout",
     "output_type": "stream",
     "text": [
      "Mật khẩu được tạo là: W5PdCuNE\n"
     ]
    }
   ],
   "source": [
    "import random\n",
    "import string\n",
    "\n",
    "def tao_mat_khau(so_ky_tu=8):\n",
    "    ky_tu = string.ascii_letters + string.digits \n",
    "    mat_khau = \"\"\n",
    "\n",
    "    for i in range(so_ky_tu):\n",
    "        ky_tu_ngau_nhien = random.choice(ky_tu)\n",
    "        mat_khau += ky_tu_ngau_nhien\n",
    "\n",
    "    return mat_khau\n",
    "\n",
    "mat_khau = tao_mat_khau()\n",
    "print(\"Mật khẩu được tạo là:\", mat_khau)\n"
   ]
  }
 ],
 "metadata": {
  "kernelspec": {
   "display_name": "Python 3",
   "language": "python",
   "name": "python3"
  },
  "language_info": {
   "codemirror_mode": {
    "name": "ipython",
    "version": 3
   },
   "file_extension": ".py",
   "mimetype": "text/x-python",
   "name": "python",
   "nbconvert_exporter": "python",
   "pygments_lexer": "ipython3",
   "version": "3.12.2"
  }
 },
 "nbformat": 4,
 "nbformat_minor": 5
}
